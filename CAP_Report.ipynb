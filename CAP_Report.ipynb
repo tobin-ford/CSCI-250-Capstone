{
 "cells": [
  {
   "cell_type": "markdown",
   "metadata": {},
   "source": [
    "<img src=\"https://3a2vzv37nkuw3esf6a3u2t7s-wpengine.netdna-ssl.com/webcentral/wp-content/uploads/sites/267/2019/02/horizontaldarkbackground.jpg\" width=\"55%\" align=\"left\"> \n",
    "<br><br><br><br><br>\n",
    "<font size=3 color='#08088A'>\n",
    "<b>CSCI250 Python Computing: Building a Sensor System</b> <br><br>\n",
    "Capstone final report\n",
    "</font>\n",
    "<hr style=\"height:5px\" width=\"55%\" align=\"left\">"
   ]
  },
  {
   "cell_type": "markdown",
   "metadata": {},
   "source": [
    "# Title\n",
    "\n",
    "Insert one or more pictures of your project. \n",
    "You can do this by clicking **Edit** in the menu bar, then **Insert Image**."
   ]
  },
  {
   "cell_type": "markdown",
   "metadata": {},
   "source": [
    "# Group \n",
    "\n",
    "List all members and indicate specific project responsibilities:\n",
    "\n",
    "* Tobin Ford, flex/pressure sensors, climbing, data analysis\n",
    "* Alexander Capehart, accelerometers, climbing, data analysis"
   ]
  },
  {
   "cell_type": "markdown",
   "metadata": {},
   "source": [
    "# Description\n",
    "\n",
    "Our project a sensor system that can be attached to a climber to record biometrics during climbing."
   ]
  },
  {
   "cell_type": "markdown",
   "metadata": {},
   "source": [
    "# Hardware\n",
    "\n",
    "- 5x Accelerometers\n",
    "- 1x Qwiic Mux (To combine Accelerometers)\n",
    "- 2x Pressure Sensors\n",
    "- 2x Flex sensors"
   ]
  },
  {
   "cell_type": "markdown",
   "metadata": {},
   "source": [
    "# Operation\n",
    "\n",
    "- Attach Accelerometers to Mux, make sure to daisy chain jumpers so they span across all limbs\n",
    "- Attach sensor system to climber, connect to RPi\n",
    "- Run \"data collection\" part of this notebook when the climber starts climbing\n",
    "- Specify the files to read in the \"data analysis\" part of this notebook"
   ]
  },
  {
   "cell_type": "markdown",
   "metadata": {},
   "source": [
    "# Data\n",
    "\n",
    "As stated in the capstone guidelines notebook, your project must have 4 data components:\n",
    "\n",
    "1. **Collect** data\n",
    "2. **Process** data\n",
    "3. **Display** data\n",
    "4. **Interpret** data\n",
    "\n"
   ]
  },
  {
   "cell_type": "markdown",
   "metadata": {},
   "source": [
    "# Wiring\n",
    "\n",
    "Include a a description or schematic of how all hardware elements are connected to your RPi. Be specific about what is connected where. There are several websites that allow you to create circuit schematics for free, such as [this one](https://www.circuit-diagram.org/editor/)."
   ]
  },
  {
   "cell_type": "markdown",
   "metadata": {},
   "source": [
    "# Code\n",
    "\n",
    "Include all the code that makes your project run. It can be in a single code cell or split between many cells, whatever you prefer. Add documentation to explain what different portions of your code do."
   ]
  },
  {
   "cell_type": "markdown",
   "metadata": {},
   "source": [
    "# Credits\n",
    "\n",
    "Include references to all code you used in your project. If it's a library, provide name, version and download link."
   ]
  }
 ],
 "metadata": {
  "kernelspec": {
   "display_name": "Python 3 (ipykernel)",
   "language": "python",
   "name": "python3"
  },
  "language_info": {
   "codemirror_mode": {
    "name": "ipython",
    "version": 3
   },
   "file_extension": ".py",
   "mimetype": "text/x-python",
   "name": "python",
   "nbconvert_exporter": "python",
   "pygments_lexer": "ipython3",
   "version": "3.10.12"
  },
  "varInspector": {
   "cols": {
    "lenName": 16,
    "lenType": 16,
    "lenVar": 40
   },
   "kernels_config": {
    "python": {
     "delete_cmd_postfix": "",
     "delete_cmd_prefix": "del ",
     "library": "var_list.py",
     "varRefreshCmd": "print(var_dic_list())"
    },
    "r": {
     "delete_cmd_postfix": ") ",
     "delete_cmd_prefix": "rm(",
     "library": "var_list.r",
     "varRefreshCmd": "cat(var_dic_list()) "
    }
   },
   "types_to_exclude": [
    "module",
    "function",
    "builtin_function_or_method",
    "instance",
    "_Feature"
   ],
   "window_display": false
  }
 },
 "nbformat": 4,
 "nbformat_minor": 2
}
