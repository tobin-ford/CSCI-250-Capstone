{
 "cells": [
  {
   "cell_type": "markdown",
   "metadata": {},
   "source": [
    "<img src=\"https://www.mines.edu/webcentral/wp-content/uploads/sites/267/2019/02/horizontallightbackground.jpg\" width=\"100%\"> \n",
    "\n",
    "### CSCI250 Python Computing: Building a Sensor System\n",
    "<hr style=\"height:5px\" width=\"100%\" align=\"left\">\n",
    "\n",
    "# Capstone project proposal"
   ]
  },
  {
   "cell_type": "markdown",
   "metadata": {},
   "source": [
    "## Title: Biometric Analysis Climbers during Bouldering.\n",
    "\n",
    "Description: Our team plans collect biometric data from climbers during short climbs called boulders (10-20 feet in height). \n",
    "Data will be collected via accelerometers on each limb and center of mass, pressure sensors on the feet and flex sensors on each elbow. \n",
    "We will create visualzations of this data with respect to time and overlay it with video of the corresponding climb. \n",
    "This concept could be expanded upon by applying these sensors to different climbers to visualize the differences in technique between individuals \n",
    "on the same climb."
   ]
  },
  {
   "cell_type": "markdown",
   "metadata": {},
   "source": [
    "# Names and Roles \n",
    "- Tobin Ford : Software, Hardware, Climbing\n",
    "- Alexander Capehart : Software, Hardware"
   ]
  },
  {
   "cell_type": "markdown",
   "metadata": {},
   "source": [
    "# Meeting Project Requirements\n",
    "\n",
    "3 Unique Types of Sensors\n",
    "- Accelerometers\n",
    "- Flex Sensors\n",
    "- Pressure Sensors\n",
    "\n",
    "Collecting, Processing and Storing Data\n",
    "- Data will be stored in numpy arrays and saved to .npz files.  \n",
    "*Additionally, we could run vectorized numerical integration to determine velocity and position based on the intial position of the accelerometers*\n",
    "\n",
    "Displaying Results\n",
    "- Data will be plotted using matplotlib or another python visualization tool with respect to time. There will also be a video playing to show how movement corresponds to measured changes in our sensor array.\n",
    "\n",
    "Interpret\n",
    "- The video and plots of sensor data will help us understand the individual styles of climbers on the same boulders. This will highlight differences in techniques and skills. Climbing can often be unapproachable for non-climbers or begginers, this may help illustrate nuances of climbing that could be challening for outsiders to understand. The video in the background synced with a plot will be visually appealing and informative even if not technically useful in a coaching setting."
   ]
  },
  {
   "cell_type": "markdown",
   "metadata": {},
   "source": [
    "# Project timeline and milestones\n",
    "\n",
    "Your answer here."
   ]
  },
  {
   "cell_type": "markdown",
   "metadata": {},
   "source": [
    "# Hardware elements you intend to use\n",
    "\n",
    "5x Accelerometer\n",
    "2x Flex Sensor\n",
    "\n",
    "<div class=\"alert alert-block alert-warning\">\n",
    "    - 2x FlexiForce Pressure Sensor https://www.sparkfun.com/products/11207\n",
    "        - Will be placed in soles of shoes to record pressure data from feet\n",
    "    - 1x SparkFun Quiic Mux Breakout - https://www.sparkfun.com/products/16784\n",
    "        - Due to the amount of accelerometers we need, we have to multiplex all of the individual I2C signals such that they can be used by the RPi's single I2C connection.\n",
    "    - 1x SparkFun Qwiic Cable Kit - https://www.sparkfun.com/products/15081\n",
    "        - See the prior part\n",
    "</div>"
   ]
  },
  {
   "cell_type": "code",
   "execution_count": null,
   "metadata": {},
   "outputs": [],
   "source": []
  }
 ],
 "metadata": {
  "hide_input": false,
  "kernelspec": {
   "display_name": "Python 3 (ipykernel)",
   "language": "python",
   "name": "python3"
  },
  "language_info": {
   "codemirror_mode": {
    "name": "ipython",
    "version": 3
   },
   "file_extension": ".py",
   "mimetype": "text/x-python",
   "name": "python",
   "nbconvert_exporter": "python",
   "pygments_lexer": "ipython3",
   "version": "3.10.12"
  },
  "varInspector": {
   "cols": {
    "lenName": 16,
    "lenType": 16,
    "lenVar": 40
   },
   "kernels_config": {
    "python": {
     "delete_cmd_postfix": "",
     "delete_cmd_prefix": "del ",
     "library": "var_list.py",
     "varRefreshCmd": "print(var_dic_list())"
    },
    "r": {
     "delete_cmd_postfix": ") ",
     "delete_cmd_prefix": "rm(",
     "library": "var_list.r",
     "varRefreshCmd": "cat(var_dic_list()) "
    }
   },
   "types_to_exclude": [
    "module",
    "function",
    "builtin_function_or_method",
    "instance",
    "_Feature"
   ],
   "window_display": false
  }
 },
 "nbformat": 4,
 "nbformat_minor": 2
}
