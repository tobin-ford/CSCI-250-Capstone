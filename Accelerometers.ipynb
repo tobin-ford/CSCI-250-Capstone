{
 "cells": [
  {
   "cell_type": "code",
   "execution_count": 53,
   "id": "7c4ca559-ee95-48a9-9f08-070b68a2472c",
   "metadata": {},
   "outputs": [
    {
     "name": "stdout",
     "output_type": "stream",
     "text": [
      "Channel 0: Enabled\n",
      "Channel 1: Disabled\n",
      "Channel 2: Disabled\n",
      "Channel 3: Disabled\n",
      "Channel 4: Disabled\n",
      "Channel 5: Disabled\n",
      "Channel 6: Disabled\n",
      "Channel 7: Disabled\n",
      "(12.875625000000001, -19.62, 9.67587890625)\n"
     ]
    }
   ],
   "source": [
    "import time                         # Time access and conversion package\n",
    "import qwiic_i2c                    # I2C bus driver package\n",
    "import qwiic_tca9548a\n",
    "import accUtil\n",
    "\n",
    "driver = qwiic_i2c.getI2CDriver()\n",
    "test = qwiic_tca9548a.QwiicTCA9548A(address=0x70, i2c_driver=driver)\n",
    "\n",
    "test.disable_all()\n",
    "test.enable_channels([0])\n",
    "\n",
    "print(accUtil.readACC(model=\"MMA8452Q\"))"
   ]
  },
  {
   "cell_type": "code",
   "execution_count": 51,
   "id": "0c9d99b3-bc36-4221-9d8d-0959e734e16a",
   "metadata": {},
   "outputs": [
    {
     "name": "stdout",
     "output_type": "stream",
     "text": [
      "     0  1  2  3  4  5  6  7  8  9  a  b  c  d  e  f\n",
      "00:                         -- -- -- -- -- -- -- -- \n",
      "10: -- -- -- -- -- -- -- -- -- -- -- -- -- 1d -- -- \n",
      "20: -- -- -- -- -- -- -- -- -- -- -- -- -- -- -- -- \n",
      "30: -- -- -- -- -- -- -- -- -- -- -- -- -- -- -- -- \n",
      "40: -- -- -- -- -- -- -- -- -- -- -- -- -- -- -- -- \n",
      "50: -- -- -- -- -- -- -- -- -- -- -- -- -- -- -- -- \n",
      "60: -- -- -- -- -- -- -- -- -- -- -- -- -- -- -- -- \n",
      "70: 70 -- -- -- -- -- -- --                         \n"
     ]
    }
   ],
   "source": [
    "!i2cdetect -y 1"
   ]
  }
 ],
 "metadata": {
  "kernelspec": {
   "display_name": "Python 3 (ipykernel)",
   "language": "python",
   "name": "python3"
  },
  "language_info": {
   "codemirror_mode": {
    "name": "ipython",
    "version": 3
   },
   "file_extension": ".py",
   "mimetype": "text/x-python",
   "name": "python",
   "nbconvert_exporter": "python",
   "pygments_lexer": "ipython3",
   "version": "3.9.2"
  }
 },
 "nbformat": 4,
 "nbformat_minor": 5
}
